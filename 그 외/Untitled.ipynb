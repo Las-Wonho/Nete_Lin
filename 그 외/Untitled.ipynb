{
 "cells": [
  {
   "cell_type": "code",
   "execution_count": 2,
   "metadata": {},
   "outputs": [],
   "source": [
    "from selenium import webdriver"
   ]
  },
  {
   "cell_type": "code",
   "execution_count": 64,
   "metadata": {},
   "outputs": [],
   "source": [
    "chrome = webdriver.Chrome('./chromedriver')"
   ]
  },
  {
   "cell_type": "code",
   "execution_count": 65,
   "metadata": {},
   "outputs": [],
   "source": [
    "chrome.get('https://pypi.org/project/Fabric/1.11.1/')"
   ]
  },
  {
   "cell_type": "code",
   "execution_count": 66,
   "metadata": {},
   "outputs": [],
   "source": [
    "base_url = 'https://pypi.org/project/'"
   ]
  },
  {
   "cell_type": "code",
   "execution_count": 70,
   "metadata": {},
   "outputs": [],
   "source": [
    "req = open(\"./requirements.txt\", 'r')\n",
    "res = open('./req.txt', 'w+')\n",
    "\n",
    "lines = req.readlines()\n",
    "for line in lines:\n",
    "    if line[0] == '#' or line[0] == 'g':\n",
    "        continue\n",
    "    lib = Library()\n",
    "    lib.set_library_infomation(line)\n",
    "    chrome.get(base_url + lib.name + '/' + lib.version)\n",
    "    res.write((lib.name + ' : ' + lib.version + str(to_list(chrome))).replace('\\r\\n','').replace('\\n','')+\"\\r\\n\")\n",
    "req.close()\n",
    "res.close()"
   ]
  },
  {
   "cell_type": "code",
   "execution_count": 29,
   "metadata": {},
   "outputs": [],
   "source": [
    "class Library():\n",
    "    name = ''\n",
    "    version = ''\n",
    "    def set_library_infomation(self, infomation):\n",
    "        infomation = infomation.split('==')\n",
    "        self.name = infomation[0]\n",
    "        self.version = infomation[1].split('#')[0].replace(' ','')"
   ]
  },
  {
   "cell_type": "code",
   "execution_count": 36,
   "metadata": {},
   "outputs": [],
   "source": [
    "chrome.get(base_url + lib.name + '/' + lib.version)\n",
    "dt_list = chrome.find_element_by_xpath('//*[@id=\"content\"]/section[3]/div/div/div[1]/div[6]/dl')    "
   ]
  },
  {
   "cell_type": "code",
   "execution_count": 68,
   "metadata": {},
   "outputs": [],
   "source": [
    "def to_list(web):\n",
    "    try:\n",
    "        dt_list = web.find_element_by_xpath('//*[@id=\"content\"]/section[3]/div/div/div[1]/div[6]/dl')\n",
    "        return list(map(try_float,dt_list.text.split('Programming Language')[1].split('Topic')[0].replace('\\n', '').replace('Python', '').replace(' ', '').split('::')[1:]))\n",
    "    except Exception:\n",
    "        return []"
   ]
  },
  {
   "cell_type": "code",
   "execution_count": 55,
   "metadata": {},
   "outputs": [],
   "source": [
    "def try_float(version):\n",
    "    try:\n",
    "        return float(version)\n",
    "    except Exception:\n",
    "        return None"
   ]
  },
  {
   "cell_type": "code",
   "execution_count": null,
   "metadata": {},
   "outputs": [],
   "source": []
  }
 ],
 "metadata": {
  "kernelspec": {
   "display_name": "Python 3",
   "language": "python",
   "name": "python3"
  },
  "language_info": {
   "codemirror_mode": {
    "name": "ipython",
    "version": 3
   },
   "file_extension": ".py",
   "mimetype": "text/x-python",
   "name": "python",
   "nbconvert_exporter": "python",
   "pygments_lexer": "ipython3",
   "version": "3.7.1"
  }
 },
 "nbformat": 4,
 "nbformat_minor": 2
}
